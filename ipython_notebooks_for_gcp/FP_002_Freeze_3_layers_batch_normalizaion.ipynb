{
 "cells": [
  {
   "cell_type": "code",
   "execution_count": 1,
   "metadata": {},
   "outputs": [],
   "source": [
    "import matplotlib.pyplot as plt\n",
    "import numpy as np\n",
    "import pickle\n",
    "# fix seed for reproducibility\n",
    "np.random.seed(seed=12345)"
   ]
  },
  {
   "cell_type": "code",
   "execution_count": 2,
   "metadata": {},
   "outputs": [],
   "source": [
    "# load (download if needed) the MNIST dataset\n",
    "file = open('data.pkl','rb')\n",
    "display_data=pickle.load(file)\n",
    "x_data=display_data[\"image\"]\n",
    "y_data=display_data[\"label\"]"
   ]
  },
  {
   "cell_type": "code",
   "execution_count": 3,
   "metadata": {},
   "outputs": [],
   "source": [
    "new_y =[]\n",
    "# tokenize the labels\n",
    "for i in y_data:\n",
    "    if(i == '-Fire-Smoke'):\n",
    "        new_y.append(0)\n",
    "    elif (i == '-Fire+Smoke'):\n",
    "        new_y.append(1)\n",
    "    elif (i == '+Fire+Smoke'):\n",
    "        new_y.append(2)"
   ]
  },
  {
   "cell_type": "code",
   "execution_count": 4,
   "metadata": {},
   "outputs": [],
   "source": [
    "# split the data into training dataset and validation dataset\n",
    "from sklearn.model_selection import train_test_split\n",
    "seed =12345\n",
    "XTrain, XTest, yTrain, yTest = train_test_split(x_data,new_y,test_size=0.20,random_state=seed)\n",
    "XTrain = (XTrain-np.min(XTrain))/(np.max(XTrain)-np.min(XTrain))\n",
    "XTest = (XTest-np.min(XTest))/(np.max(XTest)-np.min(XTest))\n",
    "valid_data = []\n",
    "valid_data.append(XTest)\n",
    "class_names = np.unique(yTrain)"
   ]
  },
  {
   "cell_type": "code",
   "execution_count": 5,
   "metadata": {},
   "outputs": [
    {
     "name": "stderr",
     "output_type": "stream",
     "text": [
      "Using TensorFlow backend.\n"
     ]
    }
   ],
   "source": [
    "#one hot encoding of the targets\n",
    "from keras.utils import np_utils\n",
    "yTrain = np_utils.to_categorical(yTrain)\n",
    "yTest = np_utils.to_categorical(yTest)\n",
    "valid_data.append(yTest)"
   ]
  },
  {
   "cell_type": "code",
   "execution_count": 6,
   "metadata": {},
   "outputs": [
    {
     "name": "stdout",
     "output_type": "stream",
     "text": [
      "Freeze the last 3 layers\n",
      "_________________________________________________________________\n",
      "Layer (type)                 Output Shape              Param #   \n",
      "=================================================================\n",
      "vgg16 (Model)                (None, 9, 18, 512)        14714688  \n",
      "_________________________________________________________________\n",
      "flatten_1 (Flatten)          (None, 82944)             0         \n",
      "_________________________________________________________________\n",
      "dense_1 (Dense)              (None, 1024)              84935680  \n",
      "_________________________________________________________________\n",
      "dense_2 (Dense)              (None, 256)               262400    \n",
      "_________________________________________________________________\n",
      "batch_normalization_1 (Batch (None, 256)               1024      \n",
      "_________________________________________________________________\n",
      "dense_3 (Dense)              (None, 3)                 771       \n",
      "=================================================================\n",
      "Total params: 99,914,563\n",
      "Trainable params: 89,918,979\n",
      "Non-trainable params: 9,995,584\n",
      "_________________________________________________________________\n",
      "Train on 550 samples, validate on 138 samples\n",
      "Epoch 1/25\n",
      "550/550 [==============================] - 46s 84ms/step - loss: 0.7154 - acc: 0.7527 - val_loss: 0.7043 - val_acc: 0.8333\n",
      "Epoch 2/25\n",
      "550/550 [==============================] - 32s 58ms/step - loss: 0.2099 - acc: 0.9364 - val_loss: 5.3727 - val_acc: 0.6667\n",
      "Epoch 3/25\n",
      "550/550 [==============================] - 32s 58ms/step - loss: 0.1812 - acc: 0.9309 - val_loss: 0.8789 - val_acc: 0.7899\n",
      "Epoch 4/25\n",
      "550/550 [==============================] - 32s 58ms/step - loss: 0.1088 - acc: 0.9764 - val_loss: 1.3554 - val_acc: 0.6087\n",
      "Epoch 5/25\n",
      "550/550 [==============================] - 32s 58ms/step - loss: 0.0941 - acc: 0.9782 - val_loss: 0.6455 - val_acc: 0.8623\n",
      "Epoch 6/25\n",
      "550/550 [==============================] - 32s 58ms/step - loss: 0.0601 - acc: 0.9855 - val_loss: 0.3773 - val_acc: 0.9130\n",
      "Epoch 7/25\n",
      "550/550 [==============================] - 32s 58ms/step - loss: 0.0586 - acc: 0.9873 - val_loss: 0.3882 - val_acc: 0.9130\n",
      "Epoch 8/25\n",
      "550/550 [==============================] - 32s 58ms/step - loss: 0.0536 - acc: 0.9909 - val_loss: 0.4313 - val_acc: 0.9348\n",
      "Epoch 9/25\n",
      "550/550 [==============================] - 32s 59ms/step - loss: 0.0658 - acc: 0.9873 - val_loss: 0.5165 - val_acc: 0.9058\n",
      "Epoch 10/25\n",
      "550/550 [==============================] - 32s 58ms/step - loss: 0.0547 - acc: 0.9873 - val_loss: 0.7474 - val_acc: 0.8478\n",
      "Epoch 11/25\n",
      "550/550 [==============================] - 32s 59ms/step - loss: 0.0433 - acc: 0.9945 - val_loss: 0.3278 - val_acc: 0.9275\n",
      "Epoch 12/25\n",
      "550/550 [==============================] - 32s 58ms/step - loss: 0.0571 - acc: 0.9873 - val_loss: 0.3952 - val_acc: 0.9203\n",
      "Epoch 13/25\n",
      "550/550 [==============================] - 32s 58ms/step - loss: 0.0356 - acc: 0.9909 - val_loss: 0.9111 - val_acc: 0.8623\n",
      "Epoch 14/25\n",
      "550/550 [==============================] - 32s 58ms/step - loss: 0.0361 - acc: 0.9909 - val_loss: 1.6436 - val_acc: 0.6159\n",
      "Epoch 15/25\n",
      "550/550 [==============================] - 32s 58ms/step - loss: 0.0229 - acc: 0.9964 - val_loss: 0.6340 - val_acc: 0.8623\n",
      "Epoch 16/25\n",
      "550/550 [==============================] - 32s 58ms/step - loss: 0.0511 - acc: 0.9891 - val_loss: 0.3637 - val_acc: 0.9130\n",
      "Epoch 17/25\n",
      "550/550 [==============================] - 32s 58ms/step - loss: 0.0312 - acc: 0.9927 - val_loss: 0.3665 - val_acc: 0.9130\n",
      "Epoch 18/25\n",
      "550/550 [==============================] - 32s 58ms/step - loss: 0.0300 - acc: 0.9927 - val_loss: 0.3681 - val_acc: 0.9203\n",
      "Epoch 19/25\n",
      "550/550 [==============================] - 32s 59ms/step - loss: 0.0386 - acc: 0.9891 - val_loss: 0.3189 - val_acc: 0.9420\n",
      "Epoch 20/25\n",
      "550/550 [==============================] - 32s 58ms/step - loss: 0.0401 - acc: 0.9909 - val_loss: 0.9862 - val_acc: 0.8986\n",
      "Epoch 21/25\n",
      "550/550 [==============================] - 32s 58ms/step - loss: 0.0386 - acc: 0.9909 - val_loss: 0.4340 - val_acc: 0.9130\n",
      "Epoch 22/25\n",
      "550/550 [==============================] - 32s 58ms/step - loss: 0.0314 - acc: 0.9927 - val_loss: 0.5117 - val_acc: 0.9203\n",
      "Epoch 23/25\n",
      "550/550 [==============================] - 32s 58ms/step - loss: 0.0311 - acc: 0.9909 - val_loss: 0.4534 - val_acc: 0.9275\n",
      "Epoch 24/25\n",
      "550/550 [==============================] - 32s 59ms/step - loss: 0.0463 - acc: 0.9891 - val_loss: 0.3897 - val_acc: 0.9275\n",
      "Epoch 25/25\n",
      "550/550 [==============================] - 32s 58ms/step - loss: 0.0277 - acc: 0.9927 - val_loss: 0.2753 - val_acc: 0.9275\n",
      "dict_keys(['val_loss', 'val_acc', 'loss', 'acc'])\n"
     ]
    },
    {
     "data": {
      "image/png": "[encoded data removed]",
      "text/plain": [
       "<Figure size 432x288 with 1 Axes>"
      ]
     },
     "metadata": {},
     "output_type": "display_data"
    },
    {
     "data": {
      "image/png": "[encoded data removed]",
      "text/plain": [
       "<Figure size 432x288 with 1 Axes>"
      ]
     },
     "metadata": {},
     "output_type": "display_data"
    }
   ],
   "source": [
    "from keras.applications import VGG16\n",
    "from keras import models\n",
    "from keras import layers\n",
    "from keras import optimizers\n",
    "\n",
    "#Load the VGG model\n",
    "vgg_conv = VGG16(weights='imagenet', include_top=False, input_shape=(300, 600, 3))\n",
    "\n",
    "\n",
    "    \n",
    "# Freeze the last 3 layers\n",
    "print(\"Freeze the last 3 layers\")\n",
    "for layer in vgg_conv.layers[:-3]:\n",
    "    layer.trainable = False\n",
    "\n",
    "# Create the model\n",
    "model = models.Sequential()\n",
    "\n",
    "# Add the vgg convolutional base model\n",
    "model.add(vgg_conv)\n",
    "\n",
    "# Add new layers\n",
    "model.add(layers.Flatten())\n",
    "model.add(layers.Dense(1024, activation='relu'))\n",
    "model.add(layers.Dense(256, activation='relu'))\n",
    "model.add(layers.BatchNormalization())\n",
    "model.add(layers.Dense(3, activation='softmax'))\n",
    "\n",
    "# Show a summary of the model. Check the number of trainable parameters\n",
    "model.summary()\n",
    "\n",
    "# Compile the model\n",
    "model.compile(loss='categorical_crossentropy',\n",
    "              optimizer=optimizers.RMSprop(lr=1e-4),\n",
    "              metrics=['acc'])\n",
    "# Train the model\n",
    "\n",
    "history=model.fit(XTrain, yTrain, epochs=25, batch_size=25,validation_data=valid_data)\n",
    "\n",
    "print(history.history.keys())\n",
    "# Save the model\n",
    "fileName=\"freeze_last3_nodropout.h5\"\n",
    "model.save(fileName)\n",
    "\n",
    "acc = history.history['acc']\n",
    "val_acc = history.history['val_acc']\n",
    "loss = history.history['loss']\n",
    "val_loss = history.history['val_loss']\n",
    "\n",
    "epochs = range(len(acc))\n",
    "\n",
    "plt.plot(epochs, acc, 'b', label='Training acc')\n",
    "plt.plot(epochs, val_acc, 'r', label='Validation acc')\n",
    "plt.title('Training and validation accuracy')\n",
    "plt.legend()\n",
    "\n",
    "plt.figure()\n",
    "\n",
    "plt.plot(epochs, loss, 'b', label='Training loss')\n",
    "plt.plot(epochs, val_loss, 'r', label='Validation loss')\n",
    "plt.title('Training and validation loss')\n",
    "plt.legend()\n",
    "\n",
    "plt.show()"
   ]
  },
  {
   "cell_type": "code",
   "execution_count": null,
   "metadata": {},
   "outputs": [],
   "source": []
  },
  {
   "cell_type": "code",
   "execution_count": null,
   "metadata": {},
   "outputs": [],
   "source": []
  },
  {
   "cell_type": "code",
   "execution_count": null,
   "metadata": {},
   "outputs": [],
   "source": []
  },
  {
   "cell_type": "code",
   "execution_count": null,
   "metadata": {},
   "outputs": [],
   "source": []
  },
  {
   "cell_type": "code",
   "execution_count": null,
   "metadata": {},
   "outputs": [],
   "source": []
  },
  {
   "cell_type": "code",
   "execution_count": null,
   "metadata": {},
   "outputs": [],
   "source": []
  },
  {
   "cell_type": "code",
   "execution_count": null,
   "metadata": {},
   "outputs": [],
   "source": []
  },
  {
   "cell_type": "code",
   "execution_count": null,
   "metadata": {},
   "outputs": [],
   "source": []
  }
 ],
 "metadata": {
  "kernelspec": {
   "display_name": "Python 3",
   "language": "python",
   "name": "python3"
  },
  "language_info": {
   "codemirror_mode": {
    "name": "ipython",
    "version": 3
   },
   "file_extension": ".py",
   "mimetype": "text/x-python",
   "name": "python",
   "nbconvert_exporter": "python",
   "pygments_lexer": "ipython3",
   "version": "3.6.3"
  }
 },
 "nbformat": 4,
 "nbformat_minor": 2
}
